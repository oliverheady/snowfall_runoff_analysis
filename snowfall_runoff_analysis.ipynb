{
  "cells": [
    {
      "cell_type": "markdown",
      "metadata": {
        "id": "LluwHtPCh9o1"
      },
      "source": [
        "<center> <h1>Homework 3 | DATA 5600</h1> </center>\n",
        "<center> <h2>Simple Linear Regression Model Inference</h2> </center>\n",
        "<center> <h3> Oliver Heady <h3> <center>"
      ]
    },
    {
      "cell_type": "code",
      "execution_count": null,
      "metadata": {
        "id": "SL8n_IfCh9o3"
      },
      "outputs": [],
      "source": [
        "import pandas as pd\n",
        "import numpy as np\n",
        "import scipy.stats as stats\n",
        "import seaborn as sns\n",
        "from matplotlib import pyplot as plt\n",
        "import statsmodels.api as sm"
      ]
    },
    {
      "cell_type": "markdown",
      "metadata": {
        "id": "BKtlyoEuh9o4"
      },
      "source": [
        "## Data and Description\n",
        "\n",
        "Climate change has left California particularly vulnerable to severe drought conditions. One factor affecting water availability in Southern California is stream runoff from snowfall (FYI: water in Utah is also heavily reliant on snowpack). If runoff could be predicted, engineers, planners, and policy makers could do their jobs more effectively because they would have an estimate as to how much water is entering the area.\n",
        "\n",
        "The Runoff Water data set compares the stream runoff (column 2) (in acre-feet) of a river near Bishop, California (due east of San Jose) with snowfall (column 1) (in inches) at a site in the Sierra Nevada mountains. The data set contains 43 years' worth of measurements. Download the water.txt file from Canvas, and put it in the same folder as this R Markdown file."
      ]
    },
    {
      "cell_type": "markdown",
      "metadata": {
        "id": "CGe9yOBwh9o5"
      },
      "source": [
        "#### 1. Read in the data set, and call the dataframe \"water\". Print a summary of the data and make sure the data makes sense."
      ]
    },
    {
      "cell_type": "code",
      "execution_count": null,
      "metadata": {
        "colab": {
          "base_uri": "https://localhost:8080/",
          "height": 297
        },
        "id": "Bz3mRc8Yh9o5",
        "outputId": "0c594625-7dfb-4bd0-fa32-4b491da3042e"
      },
      "outputs": [
        {
          "output_type": "execute_result",
          "data": {
            "text/plain": [
              "          Precip         Runoff\n",
              "count  43.000000      43.000000\n",
              "mean   13.522093   77756.046512\n",
              "std     6.381867   25518.909111\n",
              "min     4.600000   41785.000000\n",
              "25%     8.705000   59857.000000\n",
              "50%    12.140000   69177.000000\n",
              "75%    16.920000   92205.500000\n",
              "max    33.070000  146345.000000"
            ],
            "text/html": [
              "\n",
              "  <div id=\"df-ce2201f8-2e03-4d5d-8143-e167197a7fc6\" class=\"colab-df-container\">\n",
              "    <div>\n",
              "<style scoped>\n",
              "    .dataframe tbody tr th:only-of-type {\n",
              "        vertical-align: middle;\n",
              "    }\n",
              "\n",
              "    .dataframe tbody tr th {\n",
              "        vertical-align: top;\n",
              "    }\n",
              "\n",
              "    .dataframe thead th {\n",
              "        text-align: right;\n",
              "    }\n",
              "</style>\n",
              "<table border=\"1\" class=\"dataframe\">\n",
              "  <thead>\n",
              "    <tr style=\"text-align: right;\">\n",
              "      <th></th>\n",
              "      <th>Precip</th>\n",
              "      <th>Runoff</th>\n",
              "    </tr>\n",
              "  </thead>\n",
              "  <tbody>\n",
              "    <tr>\n",
              "      <th>count</th>\n",
              "      <td>43.000000</td>\n",
              "      <td>43.000000</td>\n",
              "    </tr>\n",
              "    <tr>\n",
              "      <th>mean</th>\n",
              "      <td>13.522093</td>\n",
              "      <td>77756.046512</td>\n",
              "    </tr>\n",
              "    <tr>\n",
              "      <th>std</th>\n",
              "      <td>6.381867</td>\n",
              "      <td>25518.909111</td>\n",
              "    </tr>\n",
              "    <tr>\n",
              "      <th>min</th>\n",
              "      <td>4.600000</td>\n",
              "      <td>41785.000000</td>\n",
              "    </tr>\n",
              "    <tr>\n",
              "      <th>25%</th>\n",
              "      <td>8.705000</td>\n",
              "      <td>59857.000000</td>\n",
              "    </tr>\n",
              "    <tr>\n",
              "      <th>50%</th>\n",
              "      <td>12.140000</td>\n",
              "      <td>69177.000000</td>\n",
              "    </tr>\n",
              "    <tr>\n",
              "      <th>75%</th>\n",
              "      <td>16.920000</td>\n",
              "      <td>92205.500000</td>\n",
              "    </tr>\n",
              "    <tr>\n",
              "      <th>max</th>\n",
              "      <td>33.070000</td>\n",
              "      <td>146345.000000</td>\n",
              "    </tr>\n",
              "  </tbody>\n",
              "</table>\n",
              "</div>\n",
              "    <div class=\"colab-df-buttons\">\n",
              "\n",
              "  <div class=\"colab-df-container\">\n",
              "    <button class=\"colab-df-convert\" onclick=\"convertToInteractive('df-ce2201f8-2e03-4d5d-8143-e167197a7fc6')\"\n",
              "            title=\"Convert this dataframe to an interactive table.\"\n",
              "            style=\"display:none;\">\n",
              "\n",
              "  <svg xmlns=\"http://www.w3.org/2000/svg\" height=\"24px\" viewBox=\"0 -960 960 960\">\n",
              "    <path d=\"M120-120v-720h720v720H120Zm60-500h600v-160H180v160Zm220 220h160v-160H400v160Zm0 220h160v-160H400v160ZM180-400h160v-160H180v160Zm440 0h160v-160H620v160ZM180-180h160v-160H180v160Zm440 0h160v-160H620v160Z\"/>\n",
              "  </svg>\n",
              "    </button>\n",
              "\n",
              "  <style>\n",
              "    .colab-df-container {\n",
              "      display:flex;\n",
              "      gap: 12px;\n",
              "    }\n",
              "\n",
              "    .colab-df-convert {\n",
              "      background-color: #E8F0FE;\n",
              "      border: none;\n",
              "      border-radius: 50%;\n",
              "      cursor: pointer;\n",
              "      display: none;\n",
              "      fill: #1967D2;\n",
              "      height: 32px;\n",
              "      padding: 0 0 0 0;\n",
              "      width: 32px;\n",
              "    }\n",
              "\n",
              "    .colab-df-convert:hover {\n",
              "      background-color: #E2EBFA;\n",
              "      box-shadow: 0px 1px 2px rgba(60, 64, 67, 0.3), 0px 1px 3px 1px rgba(60, 64, 67, 0.15);\n",
              "      fill: #174EA6;\n",
              "    }\n",
              "\n",
              "    .colab-df-buttons div {\n",
              "      margin-bottom: 4px;\n",
              "    }\n",
              "\n",
              "    [theme=dark] .colab-df-convert {\n",
              "      background-color: #3B4455;\n",
              "      fill: #D2E3FC;\n",
              "    }\n",
              "\n",
              "    [theme=dark] .colab-df-convert:hover {\n",
              "      background-color: #434B5C;\n",
              "      box-shadow: 0px 1px 3px 1px rgba(0, 0, 0, 0.15);\n",
              "      filter: drop-shadow(0px 1px 2px rgba(0, 0, 0, 0.3));\n",
              "      fill: #FFFFFF;\n",
              "    }\n",
              "  </style>\n",
              "\n",
              "    <script>\n",
              "      const buttonEl =\n",
              "        document.querySelector('#df-ce2201f8-2e03-4d5d-8143-e167197a7fc6 button.colab-df-convert');\n",
              "      buttonEl.style.display =\n",
              "        google.colab.kernel.accessAllowed ? 'block' : 'none';\n",
              "\n",
              "      async function convertToInteractive(key) {\n",
              "        const element = document.querySelector('#df-ce2201f8-2e03-4d5d-8143-e167197a7fc6');\n",
              "        const dataTable =\n",
              "          await google.colab.kernel.invokeFunction('convertToInteractive',\n",
              "                                                    [key], {});\n",
              "        if (!dataTable) return;\n",
              "\n",
              "        const docLinkHtml = 'Like what you see? Visit the ' +\n",
              "          '<a target=\"_blank\" href=https://colab.research.google.com/notebooks/data_table.ipynb>data table notebook</a>'\n",
              "          + ' to learn more about interactive tables.';\n",
              "        element.innerHTML = '';\n",
              "        dataTable['output_type'] = 'display_data';\n",
              "        await google.colab.output.renderOutput(dataTable, element);\n",
              "        const docLink = document.createElement('div');\n",
              "        docLink.innerHTML = docLinkHtml;\n",
              "        element.appendChild(docLink);\n",
              "      }\n",
              "    </script>\n",
              "  </div>\n",
              "\n",
              "\n",
              "<div id=\"df-52f3e889-e237-4e4b-b6af-1741c9a3bd17\">\n",
              "  <button class=\"colab-df-quickchart\" onclick=\"quickchart('df-52f3e889-e237-4e4b-b6af-1741c9a3bd17')\"\n",
              "            title=\"Suggest charts.\"\n",
              "            style=\"display:none;\">\n",
              "\n",
              "<svg xmlns=\"http://www.w3.org/2000/svg\" height=\"24px\"viewBox=\"0 0 24 24\"\n",
              "     width=\"24px\">\n",
              "    <g>\n",
              "        <path d=\"M19 3H5c-1.1 0-2 .9-2 2v14c0 1.1.9 2 2 2h14c1.1 0 2-.9 2-2V5c0-1.1-.9-2-2-2zM9 17H7v-7h2v7zm4 0h-2V7h2v10zm4 0h-2v-4h2v4z\"/>\n",
              "    </g>\n",
              "</svg>\n",
              "  </button>\n",
              "\n",
              "<style>\n",
              "  .colab-df-quickchart {\n",
              "      --bg-color: #E8F0FE;\n",
              "      --fill-color: #1967D2;\n",
              "      --hover-bg-color: #E2EBFA;\n",
              "      --hover-fill-color: #174EA6;\n",
              "      --disabled-fill-color: #AAA;\n",
              "      --disabled-bg-color: #DDD;\n",
              "  }\n",
              "\n",
              "  [theme=dark] .colab-df-quickchart {\n",
              "      --bg-color: #3B4455;\n",
              "      --fill-color: #D2E3FC;\n",
              "      --hover-bg-color: #434B5C;\n",
              "      --hover-fill-color: #FFFFFF;\n",
              "      --disabled-bg-color: #3B4455;\n",
              "      --disabled-fill-color: #666;\n",
              "  }\n",
              "\n",
              "  .colab-df-quickchart {\n",
              "    background-color: var(--bg-color);\n",
              "    border: none;\n",
              "    border-radius: 50%;\n",
              "    cursor: pointer;\n",
              "    display: none;\n",
              "    fill: var(--fill-color);\n",
              "    height: 32px;\n",
              "    padding: 0;\n",
              "    width: 32px;\n",
              "  }\n",
              "\n",
              "  .colab-df-quickchart:hover {\n",
              "    background-color: var(--hover-bg-color);\n",
              "    box-shadow: 0 1px 2px rgba(60, 64, 67, 0.3), 0 1px 3px 1px rgba(60, 64, 67, 0.15);\n",
              "    fill: var(--button-hover-fill-color);\n",
              "  }\n",
              "\n",
              "  .colab-df-quickchart-complete:disabled,\n",
              "  .colab-df-quickchart-complete:disabled:hover {\n",
              "    background-color: var(--disabled-bg-color);\n",
              "    fill: var(--disabled-fill-color);\n",
              "    box-shadow: none;\n",
              "  }\n",
              "\n",
              "  .colab-df-spinner {\n",
              "    border: 2px solid var(--fill-color);\n",
              "    border-color: transparent;\n",
              "    border-bottom-color: var(--fill-color);\n",
              "    animation:\n",
              "      spin 1s steps(1) infinite;\n",
              "  }\n",
              "\n",
              "  @keyframes spin {\n",
              "    0% {\n",
              "      border-color: transparent;\n",
              "      border-bottom-color: var(--fill-color);\n",
              "      border-left-color: var(--fill-color);\n",
              "    }\n",
              "    20% {\n",
              "      border-color: transparent;\n",
              "      border-left-color: var(--fill-color);\n",
              "      border-top-color: var(--fill-color);\n",
              "    }\n",
              "    30% {\n",
              "      border-color: transparent;\n",
              "      border-left-color: var(--fill-color);\n",
              "      border-top-color: var(--fill-color);\n",
              "      border-right-color: var(--fill-color);\n",
              "    }\n",
              "    40% {\n",
              "      border-color: transparent;\n",
              "      border-right-color: var(--fill-color);\n",
              "      border-top-color: var(--fill-color);\n",
              "    }\n",
              "    60% {\n",
              "      border-color: transparent;\n",
              "      border-right-color: var(--fill-color);\n",
              "    }\n",
              "    80% {\n",
              "      border-color: transparent;\n",
              "      border-right-color: var(--fill-color);\n",
              "      border-bottom-color: var(--fill-color);\n",
              "    }\n",
              "    90% {\n",
              "      border-color: transparent;\n",
              "      border-bottom-color: var(--fill-color);\n",
              "    }\n",
              "  }\n",
              "</style>\n",
              "\n",
              "  <script>\n",
              "    async function quickchart(key) {\n",
              "      const quickchartButtonEl =\n",
              "        document.querySelector('#' + key + ' button');\n",
              "      quickchartButtonEl.disabled = true;  // To prevent multiple clicks.\n",
              "      quickchartButtonEl.classList.add('colab-df-spinner');\n",
              "      try {\n",
              "        const charts = await google.colab.kernel.invokeFunction(\n",
              "            'suggestCharts', [key], {});\n",
              "      } catch (error) {\n",
              "        console.error('Error during call to suggestCharts:', error);\n",
              "      }\n",
              "      quickchartButtonEl.classList.remove('colab-df-spinner');\n",
              "      quickchartButtonEl.classList.add('colab-df-quickchart-complete');\n",
              "    }\n",
              "    (() => {\n",
              "      let quickchartButtonEl =\n",
              "        document.querySelector('#df-52f3e889-e237-4e4b-b6af-1741c9a3bd17 button');\n",
              "      quickchartButtonEl.style.display =\n",
              "        google.colab.kernel.accessAllowed ? 'block' : 'none';\n",
              "    })();\n",
              "  </script>\n",
              "</div>\n",
              "    </div>\n",
              "  </div>\n"
            ]
          },
          "metadata": {},
          "execution_count": 2
        }
      ],
      "source": [
        "water = pd.read_table(\"/content/water.txt\", delimiter=' ')\n",
        "water.describe()"
      ]
    },
    {
      "cell_type": "markdown",
      "metadata": {
        "id": "TBvtAhnbh9o5"
      },
      "source": [
        "#### 2. Create (and print) a scatterplot of the data with variables on the appropriate axes. Make you plot look professional (make sure the plot is squre and the axes labels are descriptive). You can save your plot as an function to be used throughout the rest of the assignment."
      ]
    },
    {
      "cell_type": "code",
      "execution_count": null,
      "metadata": {
        "colab": {
          "base_uri": "https://localhost:8080/",
          "height": 388
        },
        "id": "4RmjiuRah9o5",
        "outputId": "6ba129b9-77fe-4ef7-e840-88e23be42f04"
      },
      "outputs": [
        {
          "output_type": "display_data",
          "data": {
            "text/plain": [
              "<Figure size 400x400 with 1 Axes>"
            ],
            "image/png": "[encoded data removed]"
          },
          "metadata": {}
        }
      ],
      "source": [
        "# create a function that makes a scatterplot of precipitation and runoff\n",
        "def water_scatter():\n",
        "    fig = plt.figure(figsize=(4, 4))\n",
        "    plt.scatter(x = water['Precip'], y = water['Runoff'], s = 2)\n",
        "    plt.xlabel(\"Precip\")\n",
        "    plt.ylabel(\"Runoff\")\n",
        "\n",
        "water_scatter()"
      ]
    },
    {
      "cell_type": "markdown",
      "metadata": {
        "id": "A5mZueEch9o6"
      },
      "source": [
        "#### 3. Calculate (and print) the correlation coefficient. Use that and the scatterplot to briefly describe the relationship between Stream Runoff and Snowfall."
      ]
    },
    {
      "cell_type": "code",
      "execution_count": null,
      "metadata": {
        "colab": {
          "base_uri": "https://localhost:8080/"
        },
        "id": "oZ5VmuJzh9o6",
        "outputId": "7bbc68ad-01bc-4ee8-a1e4-148c5244ace1"
      },
      "outputs": [
        {
          "output_type": "stream",
          "name": "stdout",
          "text": [
            "                            OLS Regression Results                            \n",
            "==============================================================================\n",
            "Dep. Variable:                 Runoff   R-squared:                       0.881\n",
            "Model:                            OLS   Adj. R-squared:                  0.878\n",
            "Method:                 Least Squares   F-statistic:                     302.6\n",
            "Date:                Fri, 29 Sep 2023   Prob (F-statistic):           1.56e-20\n",
            "Time:                        01:37:14   Log-Likelihood:                -451.13\n",
            "No. Observations:                  43   AIC:                             906.3\n",
            "Df Residuals:                      41   BIC:                             909.8\n",
            "Df Model:                           1                                         \n",
            "Covariance Type:            nonrobust                                         \n",
            "==============================================================================\n",
            "                 coef    std err          t      P>|t|      [0.025      0.975]\n",
            "------------------------------------------------------------------------------\n",
            "const       2.701e+04   3218.855      8.393      0.000    2.05e+04    3.35e+04\n",
            "Precip      3752.4856    215.730     17.394      0.000    3316.809    4188.162\n",
            "==============================================================================\n",
            "Omnibus:                        2.047   Durbin-Watson:                   1.518\n",
            "Prob(Omnibus):                  0.359   Jarque-Bera (JB):                1.285\n",
            "Skew:                           0.408   Prob(JB):                        0.526\n",
            "Kurtosis:                       3.227   Cond. No.                         35.4\n",
            "==============================================================================\n",
            "\n",
            "Notes:\n",
            "[1] Standard Errors assume that the covariance matrix of the errors is correctly specified.\n"
          ]
        }
      ],
      "source": [
        "# Prepare data\n",
        "y = water['Runoff']\n",
        "X = sm.add_constant(water['Precip'])\n",
        "# Fit simple linear regression model using ordinary least squares\n",
        "mod = sm.OLS(y, X)\n",
        "res = mod.fit()\n",
        "print(res.summary())"
      ]
    },
    {
      "cell_type": "markdown",
      "metadata": {
        "id": "RE1RNTf6h9o6"
      },
      "source": [
        "The correlation coefficient is 0.88, which means that there is a pretty strong positive linear correlation between precipitation and runoff."
      ]
    },
    {
      "cell_type": "markdown",
      "metadata": {
        "id": "WGa8APQsh9o6"
      },
      "source": [
        "#### 4. Add the OLS regression line to the scatterplot you created in 2. Print the plot."
      ]
    },
    {
      "cell_type": "code",
      "execution_count": null,
      "metadata": {
        "colab": {
          "base_uri": "https://localhost:8080/",
          "height": 388
        },
        "id": "SekJKTqNh9o6",
        "outputId": "be690bf3-fe86-4d4d-b9fd-0765d402506b"
      },
      "outputs": [
        {
          "output_type": "display_data",
          "data": {
            "text/plain": [
              "<Figure size 400x400 with 1 Axes>"
            ],
            "image/png": "[encoded data removed]"
          },
          "metadata": {}
        }
      ],
      "source": [
        "# create a function that adds a regression line on the scatterplot of precipitation and runoff\n",
        "def plot_ols_line(x, y):\n",
        "    water_scatter()\n",
        "    b1, b0 = np.polyfit(x, y, 1)\n",
        "    plt.plot(x, b1 * x + b0, 'r')\n",
        "\n",
        "plot_ols_line(water['Precip'], water['Runoff'])"
      ]
    },
    {
      "cell_type": "markdown",
      "metadata": {
        "id": "4ltNscCFh9o6"
      },
      "source": [
        "#### 5. Fit a simple linear regression model to the data (no transformations), and save the residuals and fitted values to the `water` dataframe. Print a summary of the linear model."
      ]
    },
    {
      "cell_type": "code",
      "execution_count": null,
      "metadata": {
        "id": "WQ0slLm7h9o6"
      },
      "outputs": [],
      "source": [
        "water['residuals'] = res.resid\n",
        "water['fittedvalues'] = res.fittedvalues"
      ]
    },
    {
      "cell_type": "markdown",
      "metadata": {
        "id": "yYk4Yy1Qh9o7"
      },
      "source": [
        "### Questions 6 to 11 involve using diagnostics to determine if the linear regression assumptions are met. For each assumption, (1) perform appropriate diagnostics to determine if the assumption is violated, and (2) explain whether or not you think the assumption is violated and why you think that."
      ]
    },
    {
      "cell_type": "markdown",
      "metadata": {
        "id": "PLs9NTT7h9o7"
      },
      "source": [
        "#### 6. (L) $X$ vs $Y$ is linear (use at least two diagnostic tools)"
      ]
    },
    {
      "cell_type": "code",
      "execution_count": null,
      "metadata": {
        "colab": {
          "base_uri": "https://localhost:8080/",
          "height": 388
        },
        "id": "V566WnjPh9o7",
        "outputId": "177055d7-4e8b-4eea-f459-31192be9db1c"
      },
      "outputs": [
        {
          "output_type": "display_data",
          "data": {
            "text/plain": [
              "<Figure size 400x400 with 1 Axes>"
            ],
            "image/png": "[encoded data removed]"
          },
          "metadata": {}
        }
      ],
      "source": [
        "# Scatterplot\n",
        "fig = plt.figure(figsize = (4, 4))\n",
        "plt.scatter(x = water['Precip'], y = water['Runoff'], s = 2)\n",
        "plt.xlabel(\"Precipitation (in)\")\n",
        "plt.ylabel(\"Runoff (acre-feet)\")\n",
        "plt.show()"
      ]
    },
    {
      "cell_type": "code",
      "source": [
        "# Residuals versus Fitted Values\n",
        "fig = plt.figure(figsize = (4, 4))\n",
        "sns.residplot(x = water['fittedvalues'], y = water['residuals'],\n",
        "                          lowess = True,\n",
        "                          scatter_kws = {'s': 3},\n",
        "                          line_kws = {'color': 'red', 'lw': 1})\n",
        "plt.title(\"Residuals vs. Fitted\")\n",
        "plt.ylabel(\"Residuals\")\n",
        "plt.xlabel(\"Fitted Values\")\n",
        "plt.show()"
      ],
      "metadata": {
        "colab": {
          "base_uri": "https://localhost:8080/",
          "height": 410
        },
        "id": "_wRdQ4B8pv4S",
        "outputId": "d0ec00c0-ecc3-4ca5-f916-025b6e8b84a5"
      },
      "execution_count": null,
      "outputs": [
        {
          "output_type": "display_data",
          "data": {
            "text/plain": [
              "<Figure size 400x400 with 1 Axes>"
            ],
            "image/png": "[encoded data removed]"
          },
          "metadata": {}
        }
      ]
    },
    {
      "cell_type": "markdown",
      "metadata": {
        "id": "H8H4zAahh9o7"
      },
      "source": [
        "The scatterplot seems pretty linear, but the residuals aren't quite evenly spread. Not quite homoscedastic, we'll look at this later. The residuals versus fitted values also strays from the center line, meaning we'll need some transformation."
      ]
    },
    {
      "cell_type": "markdown",
      "metadata": {
        "id": "cI41SPaYh9o7"
      },
      "source": [
        "#### 7. (I) The residuals are independent (no diagnostic tools - just think about how the data was collected and briefly write your thoughts)"
      ]
    },
    {
      "cell_type": "markdown",
      "metadata": {
        "id": "eQPD32VIh9o7"
      },
      "source": [
        "The data description didn't specify whether the data were randomly sampled. If we assume they were, then we can say the residuals are independent."
      ]
    },
    {
      "cell_type": "markdown",
      "metadata": {
        "id": "80w3MpdXh9o7"
      },
      "source": [
        "#### 8. (N) The residuals are normally distributed and centered at zero (use at least three diagnostic tools)"
      ]
    },
    {
      "cell_type": "code",
      "execution_count": null,
      "metadata": {
        "colab": {
          "base_uri": "https://localhost:8080/",
          "height": 368
        },
        "id": "yiLrUWexh9o8",
        "outputId": "1e944919-5a76-45aa-cced-2ebb337b9f83"
      },
      "outputs": [
        {
          "output_type": "display_data",
          "data": {
            "text/plain": [
              "<Figure size 400x400 with 1 Axes>"
            ],
            "image/png": "[encoded data removed]"
          },
          "metadata": {}
        }
      ],
      "source": [
        "# Box Plot\n",
        "fig = plt.figure(figsize = (4, 4))\n",
        "plt.boxplot(water['residuals'])\n",
        "plt.ylabel(\"Residuals\")\n",
        "plt.show()"
      ]
    },
    {
      "cell_type": "code",
      "source": [
        "# Histogram\n",
        "fig = plt.figure(figsize = (4, 4))\n",
        "\n",
        "# plot histogram (density=True so that it's on the same scale as the normal distribution)\n",
        "plt.hist(water['residuals'], density = True, bins = 11)\n",
        "plt.xlabel(\"Residuals\")\n",
        "plt.ylabel(\"Density\")\n",
        "\n",
        "# calculate mean and standard deviation\n",
        "mean = np.mean(water['residuals'])\n",
        "sd = np.std(water['residuals'])\n",
        "\n",
        "# generate x values to plot\n",
        "xmin, xmax = plt.xlim()\n",
        "x = np.linspace(xmin, xmax, 100)\n",
        "\n",
        "# plot normal distribution curve\n",
        "plt.plot(x, stats.norm.pdf(x, mean, sd), color = 'r', lw = 3)\n",
        "plt.show()"
      ],
      "metadata": {
        "colab": {
          "base_uri": "https://localhost:8080/",
          "height": 403
        },
        "id": "m8NEaMRwsrib",
        "outputId": "4927660a-6612-45c7-f9ef-dd1a122c1ba8"
      },
      "execution_count": null,
      "outputs": [
        {
          "output_type": "display_data",
          "data": {
            "text/plain": [
              "<Figure size 400x400 with 1 Axes>"
            ],
            "image/png": "[encoded data removed]"
          },
          "metadata": {}
        }
      ]
    },
    {
      "cell_type": "code",
      "source": [
        "# Normal Probability Plot\n",
        "sm.qqplot(water['residuals'], line = '45', fit = True)\n",
        "plt.title(\"Normal Q-Q\")\n",
        "plt.show()"
      ],
      "metadata": {
        "colab": {
          "base_uri": "https://localhost:8080/",
          "height": 472
        },
        "id": "qsBtdRADsx-H",
        "outputId": "ca128b8c-5fbc-44b3-ebfd-824313087725"
      },
      "execution_count": null,
      "outputs": [
        {
          "output_type": "display_data",
          "data": {
            "text/plain": [
              "<Figure size 640x480 with 1 Axes>"
            ],
            "image/png": "[encoded data removed]"
          },
          "metadata": {}
        }
      ]
    },
    {
      "cell_type": "markdown",
      "metadata": {
        "id": "vzzevzyyh9o8"
      },
      "source": [
        "These plots show that the residuals are a little right-skewed, and that there may be a few outliers on those upper theoretical quantities."
      ]
    },
    {
      "cell_type": "markdown",
      "metadata": {
        "id": "W_xI4lzyh9o8"
      },
      "source": [
        "#### 9. (E) The residuals have equal (constant) variance across all values of $X$ (homoscedastic) (use one diagnostic tool)"
      ]
    },
    {
      "cell_type": "code",
      "execution_count": null,
      "metadata": {
        "colab": {
          "base_uri": "https://localhost:8080/",
          "height": 410
        },
        "id": "GP3K1o8Nh9o8",
        "outputId": "8ff6b5bf-9241-4556-cd53-45adf9610809"
      },
      "outputs": [
        {
          "output_type": "display_data",
          "data": {
            "text/plain": [
              "<Figure size 400x400 with 1 Axes>"
            ],
            "image/png": "[encoded data removed]"
          },
          "metadata": {}
        }
      ],
      "source": [
        "fig = plt.figure(figsize = (4, 4))\n",
        "sns.residplot(x = water['fittedvalues'], y = water['residuals'],\n",
        "                          lowess = True,\n",
        "                          scatter_kws = {'s': 3},\n",
        "                          line_kws = {'color': 'red', 'lw': 1})\n",
        "plt.title(\"Residuals vs. Fitted\")\n",
        "plt.ylabel(\"Residuals\")\n",
        "plt.xlabel(\"Fitted Values\")\n",
        "plt.show()"
      ]
    },
    {
      "cell_type": "markdown",
      "metadata": {
        "id": "0GPWdD1gh9o8"
      },
      "source": [
        "There is some homoscedasity, especially at those upper levels."
      ]
    },
    {
      "cell_type": "markdown",
      "metadata": {
        "id": "g0U-6v7Rh9o8"
      },
      "source": [
        "#### 10. (A) The model describes all observations (i.e., there are no influential points) (use two diagnostic tools)"
      ]
    },
    {
      "cell_type": "code",
      "execution_count": null,
      "metadata": {
        "colab": {
          "base_uri": "https://localhost:8080/",
          "height": 544
        },
        "id": "XOBQaB_Ch9o8",
        "outputId": "703d223b-17f4-4985-b6b6-f171235e5233"
      },
      "outputs": [
        {
          "output_type": "display_data",
          "data": {
            "text/plain": [
              "<Figure size 400x400 with 1 Axes>"
            ],
            "image/png": "[encoded data removed]"
          },
          "metadata": {}
        },
        {
          "output_type": "execute_result",
          "data": {
            "text/plain": [
              "    Precip  Runoff     residuals   fittedvalues   dfbetas\n",
              "35   23.86  135043  18494.106570  116548.893430  0.594852\n",
              "34   19.45  120463  20462.568004  100000.431996  0.364901\n",
              "38   26.46  118144  -8161.355953  126305.355953 -0.325368\n",
              "21   33.07  146345  -4764.285676  151109.285676 -0.332424"
            ],
            "text/html": [
              "\n",
              "  <div id=\"df-857c8f2b-cac6-4cdc-94a9-d0238f197c47\" class=\"colab-df-container\">\n",
              "    <div>\n",
              "<style scoped>\n",
              "    .dataframe tbody tr th:only-of-type {\n",
              "        vertical-align: middle;\n",
              "    }\n",
              "\n",
              "    .dataframe tbody tr th {\n",
              "        vertical-align: top;\n",
              "    }\n",
              "\n",
              "    .dataframe thead th {\n",
              "        text-align: right;\n",
              "    }\n",
              "</style>\n",
              "<table border=\"1\" class=\"dataframe\">\n",
              "  <thead>\n",
              "    <tr style=\"text-align: right;\">\n",
              "      <th></th>\n",
              "      <th>Precip</th>\n",
              "      <th>Runoff</th>\n",
              "      <th>residuals</th>\n",
              "      <th>fittedvalues</th>\n",
              "      <th>dfbetas</th>\n",
              "    </tr>\n",
              "  </thead>\n",
              "  <tbody>\n",
              "    <tr>\n",
              "      <th>35</th>\n",
              "      <td>23.86</td>\n",
              "      <td>135043</td>\n",
              "      <td>18494.106570</td>\n",
              "      <td>116548.893430</td>\n",
              "      <td>0.594852</td>\n",
              "    </tr>\n",
              "    <tr>\n",
              "      <th>34</th>\n",
              "      <td>19.45</td>\n",
              "      <td>120463</td>\n",
              "      <td>20462.568004</td>\n",
              "      <td>100000.431996</td>\n",
              "      <td>0.364901</td>\n",
              "    </tr>\n",
              "    <tr>\n",
              "      <th>38</th>\n",
              "      <td>26.46</td>\n",
              "      <td>118144</td>\n",
              "      <td>-8161.355953</td>\n",
              "      <td>126305.355953</td>\n",
              "      <td>-0.325368</td>\n",
              "    </tr>\n",
              "    <tr>\n",
              "      <th>21</th>\n",
              "      <td>33.07</td>\n",
              "      <td>146345</td>\n",
              "      <td>-4764.285676</td>\n",
              "      <td>151109.285676</td>\n",
              "      <td>-0.332424</td>\n",
              "    </tr>\n",
              "  </tbody>\n",
              "</table>\n",
              "</div>\n",
              "    <div class=\"colab-df-buttons\">\n",
              "\n",
              "  <div class=\"colab-df-container\">\n",
              "    <button class=\"colab-df-convert\" onclick=\"convertToInteractive('df-857c8f2b-cac6-4cdc-94a9-d0238f197c47')\"\n",
              "            title=\"Convert this dataframe to an interactive table.\"\n",
              "            style=\"display:none;\">\n",
              "\n",
              "  <svg xmlns=\"http://www.w3.org/2000/svg\" height=\"24px\" viewBox=\"0 -960 960 960\">\n",
              "    <path d=\"M120-120v-720h720v720H120Zm60-500h600v-160H180v160Zm220 220h160v-160H400v160Zm0 220h160v-160H400v160ZM180-400h160v-160H180v160Zm440 0h160v-160H620v160ZM180-180h160v-160H180v160Zm440 0h160v-160H620v160Z\"/>\n",
              "  </svg>\n",
              "    </button>\n",
              "\n",
              "  <style>\n",
              "    .colab-df-container {\n",
              "      display:flex;\n",
              "      gap: 12px;\n",
              "    }\n",
              "\n",
              "    .colab-df-convert {\n",
              "      background-color: #E8F0FE;\n",
              "      border: none;\n",
              "      border-radius: 50%;\n",
              "      cursor: pointer;\n",
              "      display: none;\n",
              "      fill: #1967D2;\n",
              "      height: 32px;\n",
              "      padding: 0 0 0 0;\n",
              "      width: 32px;\n",
              "    }\n",
              "\n",
              "    .colab-df-convert:hover {\n",
              "      background-color: #E2EBFA;\n",
              "      box-shadow: 0px 1px 2px rgba(60, 64, 67, 0.3), 0px 1px 3px 1px rgba(60, 64, 67, 0.15);\n",
              "      fill: #174EA6;\n",
              "    }\n",
              "\n",
              "    .colab-df-buttons div {\n",
              "      margin-bottom: 4px;\n",
              "    }\n",
              "\n",
              "    [theme=dark] .colab-df-convert {\n",
              "      background-color: #3B4455;\n",
              "      fill: #D2E3FC;\n",
              "    }\n",
              "\n",
              "    [theme=dark] .colab-df-convert:hover {\n",
              "      background-color: #434B5C;\n",
              "      box-shadow: 0px 1px 3px 1px rgba(0, 0, 0, 0.15);\n",
              "      filter: drop-shadow(0px 1px 2px rgba(0, 0, 0, 0.3));\n",
              "      fill: #FFFFFF;\n",
              "    }\n",
              "  </style>\n",
              "\n",
              "    <script>\n",
              "      const buttonEl =\n",
              "        document.querySelector('#df-857c8f2b-cac6-4cdc-94a9-d0238f197c47 button.colab-df-convert');\n",
              "      buttonEl.style.display =\n",
              "        google.colab.kernel.accessAllowed ? 'block' : 'none';\n",
              "\n",
              "      async function convertToInteractive(key) {\n",
              "        const element = document.querySelector('#df-857c8f2b-cac6-4cdc-94a9-d0238f197c47');\n",
              "        const dataTable =\n",
              "          await google.colab.kernel.invokeFunction('convertToInteractive',\n",
              "                                                    [key], {});\n",
              "        if (!dataTable) return;\n",
              "\n",
              "        const docLinkHtml = 'Like what you see? Visit the ' +\n",
              "          '<a target=\"_blank\" href=https://colab.research.google.com/notebooks/data_table.ipynb>data table notebook</a>'\n",
              "          + ' to learn more about interactive tables.';\n",
              "        element.innerHTML = '';\n",
              "        dataTable['output_type'] = 'display_data';\n",
              "        await google.colab.output.renderOutput(dataTable, element);\n",
              "        const docLink = document.createElement('div');\n",
              "        docLink.innerHTML = docLinkHtml;\n",
              "        element.appendChild(docLink);\n",
              "      }\n",
              "    </script>\n",
              "  </div>\n",
              "\n",
              "\n",
              "<div id=\"df-f89ef29c-a6ba-438b-9903-2187bdad2b17\">\n",
              "  <button class=\"colab-df-quickchart\" onclick=\"quickchart('df-f89ef29c-a6ba-438b-9903-2187bdad2b17')\"\n",
              "            title=\"Suggest charts.\"\n",
              "            style=\"display:none;\">\n",
              "\n",
              "<svg xmlns=\"http://www.w3.org/2000/svg\" height=\"24px\"viewBox=\"0 0 24 24\"\n",
              "     width=\"24px\">\n",
              "    <g>\n",
              "        <path d=\"M19 3H5c-1.1 0-2 .9-2 2v14c0 1.1.9 2 2 2h14c1.1 0 2-.9 2-2V5c0-1.1-.9-2-2-2zM9 17H7v-7h2v7zm4 0h-2V7h2v10zm4 0h-2v-4h2v4z\"/>\n",
              "    </g>\n",
              "</svg>\n",
              "  </button>\n",
              "\n",
              "<style>\n",
              "  .colab-df-quickchart {\n",
              "      --bg-color: #E8F0FE;\n",
              "      --fill-color: #1967D2;\n",
              "      --hover-bg-color: #E2EBFA;\n",
              "      --hover-fill-color: #174EA6;\n",
              "      --disabled-fill-color: #AAA;\n",
              "      --disabled-bg-color: #DDD;\n",
              "  }\n",
              "\n",
              "  [theme=dark] .colab-df-quickchart {\n",
              "      --bg-color: #3B4455;\n",
              "      --fill-color: #D2E3FC;\n",
              "      --hover-bg-color: #434B5C;\n",
              "      --hover-fill-color: #FFFFFF;\n",
              "      --disabled-bg-color: #3B4455;\n",
              "      --disabled-fill-color: #666;\n",
              "  }\n",
              "\n",
              "  .colab-df-quickchart {\n",
              "    background-color: var(--bg-color);\n",
              "    border: none;\n",
              "    border-radius: 50%;\n",
              "    cursor: pointer;\n",
              "    display: none;\n",
              "    fill: var(--fill-color);\n",
              "    height: 32px;\n",
              "    padding: 0;\n",
              "    width: 32px;\n",
              "  }\n",
              "\n",
              "  .colab-df-quickchart:hover {\n",
              "    background-color: var(--hover-bg-color);\n",
              "    box-shadow: 0 1px 2px rgba(60, 64, 67, 0.3), 0 1px 3px 1px rgba(60, 64, 67, 0.15);\n",
              "    fill: var(--button-hover-fill-color);\n",
              "  }\n",
              "\n",
              "  .colab-df-quickchart-complete:disabled,\n",
              "  .colab-df-quickchart-complete:disabled:hover {\n",
              "    background-color: var(--disabled-bg-color);\n",
              "    fill: var(--disabled-fill-color);\n",
              "    box-shadow: none;\n",
              "  }\n",
              "\n",
              "  .colab-df-spinner {\n",
              "    border: 2px solid var(--fill-color);\n",
              "    border-color: transparent;\n",
              "    border-bottom-color: var(--fill-color);\n",
              "    animation:\n",
              "      spin 1s steps(1) infinite;\n",
              "  }\n",
              "\n",
              "  @keyframes spin {\n",
              "    0% {\n",
              "      border-color: transparent;\n",
              "      border-bottom-color: var(--fill-color);\n",
              "      border-left-color: var(--fill-color);\n",
              "    }\n",
              "    20% {\n",
              "      border-color: transparent;\n",
              "      border-left-color: var(--fill-color);\n",
              "      border-top-color: var(--fill-color);\n",
              "    }\n",
              "    30% {\n",
              "      border-color: transparent;\n",
              "      border-left-color: var(--fill-color);\n",
              "      border-top-color: var(--fill-color);\n",
              "      border-right-color: var(--fill-color);\n",
              "    }\n",
              "    40% {\n",
              "      border-color: transparent;\n",
              "      border-right-color: var(--fill-color);\n",
              "      border-top-color: var(--fill-color);\n",
              "    }\n",
              "    60% {\n",
              "      border-color: transparent;\n",
              "      border-right-color: var(--fill-color);\n",
              "    }\n",
              "    80% {\n",
              "      border-color: transparent;\n",
              "      border-right-color: var(--fill-color);\n",
              "      border-bottom-color: var(--fill-color);\n",
              "    }\n",
              "    90% {\n",
              "      border-color: transparent;\n",
              "      border-bottom-color: var(--fill-color);\n",
              "    }\n",
              "  }\n",
              "</style>\n",
              "\n",
              "  <script>\n",
              "    async function quickchart(key) {\n",
              "      const quickchartButtonEl =\n",
              "        document.querySelector('#' + key + ' button');\n",
              "      quickchartButtonEl.disabled = true;  // To prevent multiple clicks.\n",
              "      quickchartButtonEl.classList.add('colab-df-spinner');\n",
              "      try {\n",
              "        const charts = await google.colab.kernel.invokeFunction(\n",
              "            'suggestCharts', [key], {});\n",
              "      } catch (error) {\n",
              "        console.error('Error during call to suggestCharts:', error);\n",
              "      }\n",
              "      quickchartButtonEl.classList.remove('colab-df-spinner');\n",
              "      quickchartButtonEl.classList.add('colab-df-quickchart-complete');\n",
              "    }\n",
              "    (() => {\n",
              "      let quickchartButtonEl =\n",
              "        document.querySelector('#df-f89ef29c-a6ba-438b-9903-2187bdad2b17 button');\n",
              "      quickchartButtonEl.style.display =\n",
              "        google.colab.kernel.accessAllowed ? 'block' : 'none';\n",
              "    })();\n",
              "  </script>\n",
              "</div>\n",
              "    </div>\n",
              "  </div>\n"
            ]
          },
          "metadata": {},
          "execution_count": 25
        }
      ],
      "source": [
        "# DFBETAS\n",
        "dir(res)\n",
        "res.get_influence().dfbetas\n",
        "water['dfbetas'] = res.get_influence().dfbetas[:,1]\n",
        "\n",
        "fig = plt.figure(figsize = (4, 4))\n",
        "plt.ylabel(\"DFBETAS (Absolute Value)\")\n",
        "plt.xlabel(\"Observation Number\")\n",
        "plt.scatter(water.index, np.abs(water['dfbetas']), s = 3)\n",
        "plt.axhline(y = 2 / np.sqrt(len(water)), color = 'r', linestyle = 'dashed')\n",
        "plt.show()\n",
        "\n",
        "# OPTIONAL: code to grab potential outliers\n",
        "outliers_dfbetas = water[np.abs(water['dfbetas']) > 2 / np.sqrt(len(water))]\n",
        "outliers_dfbetas.sort_values(by = 'dfbetas', ascending = False)"
      ]
    },
    {
      "cell_type": "code",
      "source": [
        "# DFFITS\n",
        "water['dffits'] = res.get_influence().dffits[0]\n",
        "\n",
        "fig = plt.figure(figsize = (4, 4))\n",
        "plt.ylabel(\"DFFITS (Absolute Values)\")\n",
        "plt.xlabel(\"Observation Number\")\n",
        "plt.scatter(water.index, np.abs(water['dffits']), s = 3)\n",
        "plt.axhline(y = 2 * np.sqrt(len(res.params) / len(water)), color = 'r', linestyle = 'dashed')\n",
        "plt.show()\n",
        "\n",
        "# OPTIONAL: code to grab potential outliers\n",
        "# outliers_dffits = cars[np.abs(cars['dffits']) > 2*np.sqrt(len(res.params)/len(cars))]\n",
        "# outliers_dffits.sort_values(by = 'dffits', ascending = False)"
      ],
      "metadata": {
        "colab": {
          "base_uri": "https://localhost:8080/",
          "height": 388
        },
        "id": "rjBaOXK6ygAI",
        "outputId": "f8fcbd00-046c-4650-b587-fa6e53c0965a"
      },
      "execution_count": null,
      "outputs": [
        {
          "output_type": "display_data",
          "data": {
            "text/plain": [
              "<Figure size 400x400 with 1 Axes>"
            ],
            "image/png": "[encoded data removed]"
          },
          "metadata": {}
        }
      ]
    },
    {
      "cell_type": "markdown",
      "metadata": {
        "id": "SukV-63zh9o8"
      },
      "source": [
        "There is definitely an influential point that sits a good ways above the rest of the DFBETA values - it's a little less influential in the DFFITS."
      ]
    },
    {
      "cell_type": "markdown",
      "metadata": {
        "id": "vE11IB4dh9o8"
      },
      "source": [
        "#### 11. (R) Additional predictor variables are not required (no diagnostic tools - just think about the variables you have and if there are other variables you think would help predict the response)"
      ]
    },
    {
      "cell_type": "markdown",
      "metadata": {
        "id": "SxyxnTgYh9o9"
      },
      "source": [
        "The only additional predictor variable I could think of may be sunlight level/tempurature, so that may be something to look into in future analyses."
      ]
    },
    {
      "cell_type": "markdown",
      "metadata": {
        "id": "m7WJXztOh9o9"
      },
      "source": [
        "### Based on your answers to questions 6 through 11, you may (or may not) have decided a transformation to the data is needed. This was, hopefully, good practice for assessing model assumptions. For simplicity for this assignment, we will use the orignial model (no transformations) for the rest of the questions. While this may be less satisifying, it will save you time.:)"
      ]
    },
    {
      "cell_type": "markdown",
      "metadata": {
        "id": "473hDWZch9o9"
      },
      "source": [
        "#### 12. Mathematically write out the fitted simple linear regression model for this data set using the coefficients you found above (do not use betas). Do not use \"X\" and \"Y\" in your model - use variable names that are fairly descriptive."
      ]
    },
    {
      "cell_type": "markdown",
      "metadata": {
        "id": "Lq9mVfVIh9o9"
      },
      "source": [
        "$R_i = 27010 + 3752 \\times P_i$"
      ]
    },
    {
      "cell_type": "markdown",
      "metadata": {
        "id": "UuHpEhkeh9o-"
      },
      "source": [
        "#### 13. Print a summary of the linear model. Interpret the 95% confidence interval for the slope."
      ]
    },
    {
      "cell_type": "code",
      "execution_count": null,
      "metadata": {
        "id": "mJCGHHlAh9o-",
        "colab": {
          "base_uri": "https://localhost:8080/"
        },
        "outputId": "a2512054-6f0a-4cf4-f8f9-cc2a92040e1d"
      },
      "outputs": [
        {
          "output_type": "stream",
          "name": "stdout",
          "text": [
            "                            OLS Regression Results                            \n",
            "==============================================================================\n",
            "Dep. Variable:                 Runoff   R-squared:                       0.881\n",
            "Model:                            OLS   Adj. R-squared:                  0.878\n",
            "Method:                 Least Squares   F-statistic:                     302.6\n",
            "Date:                Fri, 29 Sep 2023   Prob (F-statistic):           1.56e-20\n",
            "Time:                        03:14:45   Log-Likelihood:                -451.13\n",
            "No. Observations:                  43   AIC:                             906.3\n",
            "Df Residuals:                      41   BIC:                             909.8\n",
            "Df Model:                           1                                         \n",
            "Covariance Type:            nonrobust                                         \n",
            "==============================================================================\n",
            "                 coef    std err          t      P>|t|      [0.025      0.975]\n",
            "------------------------------------------------------------------------------\n",
            "const       2.701e+04   3218.855      8.393      0.000    2.05e+04    3.35e+04\n",
            "Precip      3752.4856    215.730     17.394      0.000    3316.809    4188.162\n",
            "==============================================================================\n",
            "Omnibus:                        2.047   Durbin-Watson:                   1.518\n",
            "Prob(Omnibus):                  0.359   Jarque-Bera (JB):                1.285\n",
            "Skew:                           0.408   Prob(JB):                        0.526\n",
            "Kurtosis:                       3.227   Cond. No.                         35.4\n",
            "==============================================================================\n",
            "\n",
            "Notes:\n",
            "[1] Standard Errors assume that the covariance matrix of the errors is correctly specified.\n"
          ]
        }
      ],
      "source": [
        "# Prepare data\n",
        "y = water['Runoff']\n",
        "X = sm.add_constant(water['Precip'])\n",
        "# Fit simple linear regression model using ordinary least squares\n",
        "mod = sm.OLS(y, X)\n",
        "res = mod.fit()\n",
        "print(res.summary())"
      ]
    },
    {
      "cell_type": "markdown",
      "metadata": {
        "id": "iWBTpKhnh9o-"
      },
      "source": [
        "We are 95% confident that for every 1 in increase in precipitation, the average slope will increase by 3,316 to 4,188 foot-acres.\n"
      ]
    },
    {
      "cell_type": "markdown",
      "metadata": {
        "id": "mTdJm376h9o-"
      },
      "source": [
        "#### 14. Based on the confidence interval, does an increase in snowfall *significantly* increase stream water? Why or why not?"
      ]
    },
    {
      "cell_type": "markdown",
      "metadata": {
        "id": "klqolpCzh9o-"
      },
      "source": [
        "Yes, this is significant because 0 is not included in the interval."
      ]
    },
    {
      "cell_type": "markdown",
      "metadata": {
        "id": "F8SBL5qzh9o_"
      },
      "source": [
        "#### 15. Print a summary of the linear model. Interpret the results from the hypothesis test output for the slope."
      ]
    },
    {
      "cell_type": "code",
      "execution_count": null,
      "metadata": {
        "id": "f5v7r_FDh9o_",
        "colab": {
          "base_uri": "https://localhost:8080/"
        },
        "outputId": "a627774e-c5c5-4e18-f844-a962f51c2470"
      },
      "outputs": [
        {
          "output_type": "stream",
          "name": "stdout",
          "text": [
            "                            OLS Regression Results                            \n",
            "==============================================================================\n",
            "Dep. Variable:                 Runoff   R-squared:                       0.881\n",
            "Model:                            OLS   Adj. R-squared:                  0.878\n",
            "Method:                 Least Squares   F-statistic:                     302.6\n",
            "Date:                Fri, 29 Sep 2023   Prob (F-statistic):           1.56e-20\n",
            "Time:                        03:20:01   Log-Likelihood:                -451.13\n",
            "No. Observations:                  43   AIC:                             906.3\n",
            "Df Residuals:                      41   BIC:                             909.8\n",
            "Df Model:                           1                                         \n",
            "Covariance Type:            nonrobust                                         \n",
            "==============================================================================\n",
            "                 coef    std err          t      P>|t|      [0.025      0.975]\n",
            "------------------------------------------------------------------------------\n",
            "const       2.701e+04   3218.855      8.393      0.000    2.05e+04    3.35e+04\n",
            "Precip      3752.4856    215.730     17.394      0.000    3316.809    4188.162\n",
            "==============================================================================\n",
            "Omnibus:                        2.047   Durbin-Watson:                   1.518\n",
            "Prob(Omnibus):                  0.359   Jarque-Bera (JB):                1.285\n",
            "Skew:                           0.408   Prob(JB):                        0.526\n",
            "Kurtosis:                       3.227   Cond. No.                         35.4\n",
            "==============================================================================\n",
            "\n",
            "Notes:\n",
            "[1] Standard Errors assume that the covariance matrix of the errors is correctly specified.\n"
          ]
        }
      ],
      "source": [
        "# Prepare data\n",
        "y = water['Runoff']\n",
        "X = sm.add_constant(water['Precip'])\n",
        "# Fit simple linear regression model using ordinary least squares\n",
        "mod = sm.OLS(y, X)\n",
        "res = mod.fit()\n",
        "print(res.summary())"
      ]
    },
    {
      "cell_type": "markdown",
      "metadata": {
        "id": "aUC5PkMDh9o_"
      },
      "source": [
        "The T-value is 17.394, and the resulting P-value outputs as 0.0. We can therefore reject the null hypothesis, that this correlation could happen by random chance."
      ]
    },
    {
      "cell_type": "markdown",
      "metadata": {
        "id": "AnNphLgFh9o_"
      },
      "source": [
        "#### 16. Briefly describe the difference between (1) a confidence interval for the slope, (2) a confidence interval for the mean of $Y$, and (3) a prediction interval for individual observations."
      ]
    },
    {
      "cell_type": "markdown",
      "metadata": {
        "id": "TPoS7d0kh9pA"
      },
      "source": [
        "(1) The confidence interval for the slope estimates the range where the slope of the true regression line will fall.\n",
        "(2) The confidence interval for the mean of Y estimates the range where the mean of Y should fall, given a specific value of X.\n",
        "(3) A prediction interval for individual observations estimates a specific point where a specific observation of Y will fall, given a specific value of X. This is why it is typically much wider than the other two intervals."
      ]
    },
    {
      "cell_type": "markdown",
      "metadata": {
        "id": "KSMyZl6Ch9pA"
      },
      "source": [
        "#### 17. Compute, print, *and interpret* a 95% confidence interval for the average of $Y$ when $x_i=30$."
      ]
    },
    {
      "cell_type": "code",
      "source": [
        "pred = res.get_prediction([1, 30])\n",
        "pred.summary_frame(alpha = 0.05).iloc[:, [0, 2, 3]]"
      ],
      "metadata": {
        "colab": {
          "base_uri": "https://localhost:8080/",
          "height": 80
        },
        "id": "R_cPLWaY69b6",
        "outputId": "54fc7860-c030-467b-e12c-915b8d4c8a4e"
      },
      "execution_count": null,
      "outputs": [
        {
          "output_type": "execute_result",
          "data": {
            "text/plain": [
              "            mean  mean_ci_lower  mean_ci_upper\n",
              "0  139589.154927  131902.181102  147276.128753"
            ],
            "text/html": [
              "\n",
              "  <div id=\"df-747df97e-ab21-45e5-9be3-536759262dc0\" class=\"colab-df-container\">\n",
              "    <div>\n",
              "<style scoped>\n",
              "    .dataframe tbody tr th:only-of-type {\n",
              "        vertical-align: middle;\n",
              "    }\n",
              "\n",
              "    .dataframe tbody tr th {\n",
              "        vertical-align: top;\n",
              "    }\n",
              "\n",
              "    .dataframe thead th {\n",
              "        text-align: right;\n",
              "    }\n",
              "</style>\n",
              "<table border=\"1\" class=\"dataframe\">\n",
              "  <thead>\n",
              "    <tr style=\"text-align: right;\">\n",
              "      <th></th>\n",
              "      <th>mean</th>\n",
              "      <th>mean_ci_lower</th>\n",
              "      <th>mean_ci_upper</th>\n",
              "    </tr>\n",
              "  </thead>\n",
              "  <tbody>\n",
              "    <tr>\n",
              "      <th>0</th>\n",
              "      <td>139589.154927</td>\n",
              "      <td>131902.181102</td>\n",
              "      <td>147276.128753</td>\n",
              "    </tr>\n",
              "  </tbody>\n",
              "</table>\n",
              "</div>\n",
              "    <div class=\"colab-df-buttons\">\n",
              "\n",
              "  <div class=\"colab-df-container\">\n",
              "    <button class=\"colab-df-convert\" onclick=\"convertToInteractive('df-747df97e-ab21-45e5-9be3-536759262dc0')\"\n",
              "            title=\"Convert this dataframe to an interactive table.\"\n",
              "            style=\"display:none;\">\n",
              "\n",
              "  <svg xmlns=\"http://www.w3.org/2000/svg\" height=\"24px\" viewBox=\"0 -960 960 960\">\n",
              "    <path d=\"M120-120v-720h720v720H120Zm60-500h600v-160H180v160Zm220 220h160v-160H400v160Zm0 220h160v-160H400v160ZM180-400h160v-160H180v160Zm440 0h160v-160H620v160ZM180-180h160v-160H180v160Zm440 0h160v-160H620v160Z\"/>\n",
              "  </svg>\n",
              "    </button>\n",
              "\n",
              "  <style>\n",
              "    .colab-df-container {\n",
              "      display:flex;\n",
              "      gap: 12px;\n",
              "    }\n",
              "\n",
              "    .colab-df-convert {\n",
              "      background-color: #E8F0FE;\n",
              "      border: none;\n",
              "      border-radius: 50%;\n",
              "      cursor: pointer;\n",
              "      display: none;\n",
              "      fill: #1967D2;\n",
              "      height: 32px;\n",
              "      padding: 0 0 0 0;\n",
              "      width: 32px;\n",
              "    }\n",
              "\n",
              "    .colab-df-convert:hover {\n",
              "      background-color: #E2EBFA;\n",
              "      box-shadow: 0px 1px 2px rgba(60, 64, 67, 0.3), 0px 1px 3px 1px rgba(60, 64, 67, 0.15);\n",
              "      fill: #174EA6;\n",
              "    }\n",
              "\n",
              "    .colab-df-buttons div {\n",
              "      margin-bottom: 4px;\n",
              "    }\n",
              "\n",
              "    [theme=dark] .colab-df-convert {\n",
              "      background-color: #3B4455;\n",
              "      fill: #D2E3FC;\n",
              "    }\n",
              "\n",
              "    [theme=dark] .colab-df-convert:hover {\n",
              "      background-color: #434B5C;\n",
              "      box-shadow: 0px 1px 3px 1px rgba(0, 0, 0, 0.15);\n",
              "      filter: drop-shadow(0px 1px 2px rgba(0, 0, 0, 0.3));\n",
              "      fill: #FFFFFF;\n",
              "    }\n",
              "  </style>\n",
              "\n",
              "    <script>\n",
              "      const buttonEl =\n",
              "        document.querySelector('#df-747df97e-ab21-45e5-9be3-536759262dc0 button.colab-df-convert');\n",
              "      buttonEl.style.display =\n",
              "        google.colab.kernel.accessAllowed ? 'block' : 'none';\n",
              "\n",
              "      async function convertToInteractive(key) {\n",
              "        const element = document.querySelector('#df-747df97e-ab21-45e5-9be3-536759262dc0');\n",
              "        const dataTable =\n",
              "          await google.colab.kernel.invokeFunction('convertToInteractive',\n",
              "                                                    [key], {});\n",
              "        if (!dataTable) return;\n",
              "\n",
              "        const docLinkHtml = 'Like what you see? Visit the ' +\n",
              "          '<a target=\"_blank\" href=https://colab.research.google.com/notebooks/data_table.ipynb>data table notebook</a>'\n",
              "          + ' to learn more about interactive tables.';\n",
              "        element.innerHTML = '';\n",
              "        dataTable['output_type'] = 'display_data';\n",
              "        await google.colab.output.renderOutput(dataTable, element);\n",
              "        const docLink = document.createElement('div');\n",
              "        docLink.innerHTML = docLinkHtml;\n",
              "        element.appendChild(docLink);\n",
              "      }\n",
              "    </script>\n",
              "  </div>\n",
              "\n",
              "    </div>\n",
              "  </div>\n"
            ]
          },
          "metadata": {},
          "execution_count": 35
        }
      ]
    },
    {
      "cell_type": "markdown",
      "metadata": {
        "id": "PuwalrsAh9pA"
      },
      "source": [
        "We are 95% confident that when the snowfall is 30 inches, the average runoff will fall between 131,902 and 147,276 foot-acres."
      ]
    },
    {
      "cell_type": "markdown",
      "metadata": {
        "id": "0q-OCWDph9pA"
      },
      "source": [
        "#### 18. Create a confidence band for the average of $Y$ across all values of $X$, and overlay this band (using a distinct color) on your previous scatterplot that you created in 4. Print the plot."
      ]
    },
    {
      "cell_type": "code",
      "source": [
        "# Define X values to predict\n",
        "x = np.linspace(min(water['Precip']), max(water['Precip']), 200)\n",
        "X = np.vstack((np.ones(200), x)).T\n",
        "\n",
        "# Predict and store results with confidence intervals\n",
        "pred = res.get_prediction(X).summary_frame(alpha = 0.05)\n",
        "\n",
        "# Plot the predictions\n",
        "plot_ols_line(water['Precip'], water['Runoff'])\n",
        "plt.fill_between(x, pred['mean_ci_lower'], pred['mean_ci_upper'], color = 'blue', alpha = 0.2)\n",
        "plt.show()"
      ],
      "metadata": {
        "colab": {
          "base_uri": "https://localhost:8080/",
          "height": 388
        },
        "id": "7JDrg4Yo6BZL",
        "outputId": "92963707-1aeb-4d8a-facc-18a7c8fff866"
      },
      "execution_count": null,
      "outputs": [
        {
          "output_type": "display_data",
          "data": {
            "text/plain": [
              "<Figure size 400x400 with 1 Axes>"
            ],
            "image/png": "[encoded data removed]"
          },
          "metadata": {}
        }
      ]
    },
    {
      "cell_type": "markdown",
      "metadata": {
        "id": "FSxhUjyTh9pB"
      },
      "source": [
        "#### 19. Briefly explain why the confidence band is shaped the way that it is."
      ]
    },
    {
      "cell_type": "markdown",
      "metadata": {
        "id": "5vrLnbI6h9pB"
      },
      "source": [
        "Because we have more data points around the center, we can be more confident about the values in that area."
      ]
    },
    {
      "cell_type": "markdown",
      "metadata": {
        "id": "GbnbMcpih9pB"
      },
      "source": [
        "#### 20. Compute, print, *and interpret* a 95% prediction interval for $Y$ when $x_i=30$."
      ]
    },
    {
      "cell_type": "code",
      "execution_count": null,
      "metadata": {
        "id": "6NhAfiCth9pB",
        "colab": {
          "base_uri": "https://localhost:8080/",
          "height": 80
        },
        "outputId": "dc2882ee-d4fa-48f2-f20f-059a03d46057"
      },
      "outputs": [
        {
          "output_type": "execute_result",
          "data": {
            "text/plain": [
              "            mean      mean_se  mean_ci_lower  mean_ci_upper   obs_ci_lower  \\\n",
              "0  139589.154927  3806.297551  131902.181102  147276.128753  119998.783941   \n",
              "\n",
              "    obs_ci_upper  \n",
              "0  159179.525914  "
            ],
            "text/html": [
              "\n",
              "  <div id=\"df-dd744735-ea4e-43e7-8d3d-c16e59279410\" class=\"colab-df-container\">\n",
              "    <div>\n",
              "<style scoped>\n",
              "    .dataframe tbody tr th:only-of-type {\n",
              "        vertical-align: middle;\n",
              "    }\n",
              "\n",
              "    .dataframe tbody tr th {\n",
              "        vertical-align: top;\n",
              "    }\n",
              "\n",
              "    .dataframe thead th {\n",
              "        text-align: right;\n",
              "    }\n",
              "</style>\n",
              "<table border=\"1\" class=\"dataframe\">\n",
              "  <thead>\n",
              "    <tr style=\"text-align: right;\">\n",
              "      <th></th>\n",
              "      <th>mean</th>\n",
              "      <th>mean_se</th>\n",
              "      <th>mean_ci_lower</th>\n",
              "      <th>mean_ci_upper</th>\n",
              "      <th>obs_ci_lower</th>\n",
              "      <th>obs_ci_upper</th>\n",
              "    </tr>\n",
              "  </thead>\n",
              "  <tbody>\n",
              "    <tr>\n",
              "      <th>0</th>\n",
              "      <td>139589.154927</td>\n",
              "      <td>3806.297551</td>\n",
              "      <td>131902.181102</td>\n",
              "      <td>147276.128753</td>\n",
              "      <td>119998.783941</td>\n",
              "      <td>159179.525914</td>\n",
              "    </tr>\n",
              "  </tbody>\n",
              "</table>\n",
              "</div>\n",
              "    <div class=\"colab-df-buttons\">\n",
              "\n",
              "  <div class=\"colab-df-container\">\n",
              "    <button class=\"colab-df-convert\" onclick=\"convertToInteractive('df-dd744735-ea4e-43e7-8d3d-c16e59279410')\"\n",
              "            title=\"Convert this dataframe to an interactive table.\"\n",
              "            style=\"display:none;\">\n",
              "\n",
              "  <svg xmlns=\"http://www.w3.org/2000/svg\" height=\"24px\" viewBox=\"0 -960 960 960\">\n",
              "    <path d=\"M120-120v-720h720v720H120Zm60-500h600v-160H180v160Zm220 220h160v-160H400v160Zm0 220h160v-160H400v160ZM180-400h160v-160H180v160Zm440 0h160v-160H620v160ZM180-180h160v-160H180v160Zm440 0h160v-160H620v160Z\"/>\n",
              "  </svg>\n",
              "    </button>\n",
              "\n",
              "  <style>\n",
              "    .colab-df-container {\n",
              "      display:flex;\n",
              "      gap: 12px;\n",
              "    }\n",
              "\n",
              "    .colab-df-convert {\n",
              "      background-color: #E8F0FE;\n",
              "      border: none;\n",
              "      border-radius: 50%;\n",
              "      cursor: pointer;\n",
              "      display: none;\n",
              "      fill: #1967D2;\n",
              "      height: 32px;\n",
              "      padding: 0 0 0 0;\n",
              "      width: 32px;\n",
              "    }\n",
              "\n",
              "    .colab-df-convert:hover {\n",
              "      background-color: #E2EBFA;\n",
              "      box-shadow: 0px 1px 2px rgba(60, 64, 67, 0.3), 0px 1px 3px 1px rgba(60, 64, 67, 0.15);\n",
              "      fill: #174EA6;\n",
              "    }\n",
              "\n",
              "    .colab-df-buttons div {\n",
              "      margin-bottom: 4px;\n",
              "    }\n",
              "\n",
              "    [theme=dark] .colab-df-convert {\n",
              "      background-color: #3B4455;\n",
              "      fill: #D2E3FC;\n",
              "    }\n",
              "\n",
              "    [theme=dark] .colab-df-convert:hover {\n",
              "      background-color: #434B5C;\n",
              "      box-shadow: 0px 1px 3px 1px rgba(0, 0, 0, 0.15);\n",
              "      filter: drop-shadow(0px 1px 2px rgba(0, 0, 0, 0.3));\n",
              "      fill: #FFFFFF;\n",
              "    }\n",
              "  </style>\n",
              "\n",
              "    <script>\n",
              "      const buttonEl =\n",
              "        document.querySelector('#df-dd744735-ea4e-43e7-8d3d-c16e59279410 button.colab-df-convert');\n",
              "      buttonEl.style.display =\n",
              "        google.colab.kernel.accessAllowed ? 'block' : 'none';\n",
              "\n",
              "      async function convertToInteractive(key) {\n",
              "        const element = document.querySelector('#df-dd744735-ea4e-43e7-8d3d-c16e59279410');\n",
              "        const dataTable =\n",
              "          await google.colab.kernel.invokeFunction('convertToInteractive',\n",
              "                                                    [key], {});\n",
              "        if (!dataTable) return;\n",
              "\n",
              "        const docLinkHtml = 'Like what you see? Visit the ' +\n",
              "          '<a target=\"_blank\" href=https://colab.research.google.com/notebooks/data_table.ipynb>data table notebook</a>'\n",
              "          + ' to learn more about interactive tables.';\n",
              "        element.innerHTML = '';\n",
              "        dataTable['output_type'] = 'display_data';\n",
              "        await google.colab.output.renderOutput(dataTable, element);\n",
              "        const docLink = document.createElement('div');\n",
              "        docLink.innerHTML = docLinkHtml;\n",
              "        element.appendChild(docLink);\n",
              "      }\n",
              "    </script>\n",
              "  </div>\n",
              "\n",
              "    </div>\n",
              "  </div>\n"
            ]
          },
          "metadata": {},
          "execution_count": 40
        }
      ],
      "source": [
        "pred = res.get_prediction([1, 30])\n",
        "pred.summary_frame(alpha = 0.05)"
      ]
    },
    {
      "cell_type": "markdown",
      "metadata": {
        "id": "foVL74uAh9pB"
      },
      "source": [
        "When there is 30 inches of snowfall, the average runoff will fall within 131,902 and 147,276 foot-acres."
      ]
    },
    {
      "cell_type": "markdown",
      "metadata": {
        "id": "_zSjw8W5h9pB"
      },
      "source": [
        "#### 21. Create a prediction band for $Y$ across all values of $X$, and overlay this band (using a distinct color) on your previous scatterplot that you created in 4. Print the plot.\n"
      ]
    },
    {
      "cell_type": "code",
      "execution_count": 41,
      "metadata": {
        "id": "6j6K2hNvh9pB",
        "colab": {
          "base_uri": "https://localhost:8080/",
          "height": 388
        },
        "outputId": "2daf5a53-393c-4b24-839e-4941e361a8c4"
      },
      "outputs": [
        {
          "output_type": "display_data",
          "data": {
            "text/plain": [
              "<Figure size 400x400 with 1 Axes>"
            ],
            "image/png": "[encoded data removed]"
          },
          "metadata": {}
        }
      ],
      "source": [
        "# Define X values to predict\n",
        "x = np.linspace(min(water['Precip']), max(water['Precip']), 200)\n",
        "X = np.vstack((np.ones(200), x)).T\n",
        "\n",
        "# Predict and store results with confidence intervals\n",
        "pred = res.get_prediction(X).summary_frame(alpha = 0.05)\n",
        "\n",
        "# Plot the predictions\n",
        "plot_ols_line(water['Precip'], water['Runoff'])\n",
        "plt.fill_between(x, pred['obs_ci_lower'], pred['obs_ci_upper'], color = 'blue', alpha = 0.2)\n",
        "plt.show()"
      ]
    },
    {
      "cell_type": "markdown",
      "metadata": {
        "id": "up4OkwyOh9pB"
      },
      "source": [
        "#### 22. Briefly explain how/why the prediction band differs from the confidence band."
      ]
    },
    {
      "cell_type": "markdown",
      "metadata": {
        "id": "nQ-83d9gh9pB"
      },
      "source": [
        "The prediction band predicts a specific value of Y, not an average."
      ]
    },
    {
      "cell_type": "markdown",
      "metadata": {
        "id": "WwDV9cNgh9pB"
      },
      "source": [
        "#### 23. Compute and print the MSE (Mean Square Error) for the linear model you fit."
      ]
    },
    {
      "cell_type": "code",
      "execution_count": 42,
      "metadata": {
        "id": "9jRvzexWh9pB",
        "colab": {
          "base_uri": "https://localhost:8080/"
        },
        "outputId": "b35086b3-0705-45df-b731-e1b1cb1ed90d"
      },
      "outputs": [
        {
          "output_type": "execute_result",
          "data": {
            "text/plain": [
              "79610011.08140893"
            ]
          },
          "metadata": {},
          "execution_count": 42
        }
      ],
      "source": [
        "mse = res.mse_resid\n",
        "mse"
      ]
    },
    {
      "cell_type": "markdown",
      "metadata": {
        "id": "tCgg5e_Th9pB"
      },
      "source": [
        "#### 24. Briefly explain (1) what the MSE estimates and (2) a drawback to using it as a model evaluation metric."
      ]
    },
    {
      "cell_type": "markdown",
      "metadata": {
        "id": "zPNI4aayh9pC"
      },
      "source": []
    },
    {
      "cell_type": "markdown",
      "metadata": {
        "id": "ZsPY1WK6h9pC"
      },
      "source": [
        "#### 25. Calculate the RMSE (Root Mean Square Error) for the linear model you fit. Print and interpret the result."
      ]
    },
    {
      "cell_type": "code",
      "execution_count": 45,
      "metadata": {
        "id": "glAD4kjvh9pC",
        "colab": {
          "base_uri": "https://localhost:8080/"
        },
        "outputId": "fbf41097-7eb9-44fa-8474-98c10bf5a5de"
      },
      "outputs": [
        {
          "output_type": "execute_result",
          "data": {
            "text/plain": [
              "8922.444232462814"
            ]
          },
          "metadata": {},
          "execution_count": 45
        }
      ],
      "source": [
        "rmse = np.sqrt(res.mse_resid)\n",
        "rmse"
      ]
    },
    {
      "cell_type": "markdown",
      "source": [
        "The RMSE represents the standard deviation of the residuals. an RMSE of 7,212 means that, on average, the model's predictions variate from the mean by 7,212."
      ],
      "metadata": {
        "id": "XRgKVWoNHU2O"
      }
    },
    {
      "cell_type": "markdown",
      "metadata": {
        "id": "sUhK8DFmh9pC"
      },
      "source": [
        "#### 26. Calculate the MAE (Mean Absolute Error) for the linear model you fit. Print and interpret the result.\n"
      ]
    },
    {
      "cell_type": "code",
      "execution_count": 47,
      "metadata": {
        "id": "3KbbaHkmh9pC",
        "colab": {
          "base_uri": "https://localhost:8080/"
        },
        "outputId": "56925cfd-8466-401e-b637-8076ce3804d5"
      },
      "outputs": [
        {
          "output_type": "execute_result",
          "data": {
            "text/plain": [
              "6954.957463974923"
            ]
          },
          "metadata": {},
          "execution_count": 47
        }
      ],
      "source": [
        "mae = np.sum(np.abs(water['residuals'])) / res.df_resid\n",
        "mae"
      ]
    },
    {
      "cell_type": "markdown",
      "metadata": {
        "id": "mRy2V3PIh9pC"
      },
      "source": [
        "On average, the model's predictions deviate from the actual observed values by about 6,955 acre-feet. Unlike RMSE, MAE gives equal weight to all errors, regardless of their size."
      ]
    },
    {
      "cell_type": "markdown",
      "metadata": {
        "id": "eg4UrAtbh9pC"
      },
      "source": [
        "#### 27. Briefly explain a benefit of using the MAE as a model evaluation metric over the RMSE."
      ]
    },
    {
      "cell_type": "markdown",
      "metadata": {
        "id": "p__bNOnUh9pC"
      },
      "source": [
        "Because it weights all values equally, it's more resistant to outliers."
      ]
    },
    {
      "cell_type": "markdown",
      "metadata": {
        "id": "1dJRh8pah9pC"
      },
      "source": [
        "#### 28. Print a summary of the linear model. Briefly interpret the R-Squared (Coefficient of Determination) value."
      ]
    },
    {
      "cell_type": "code",
      "execution_count": 48,
      "metadata": {
        "id": "zA_he2v_h9pC",
        "colab": {
          "base_uri": "https://localhost:8080/"
        },
        "outputId": "c04119b6-046f-4408-ce8b-fcf53b09ed33"
      },
      "outputs": [
        {
          "output_type": "stream",
          "name": "stdout",
          "text": [
            "                            OLS Regression Results                            \n",
            "==============================================================================\n",
            "Dep. Variable:                 Runoff   R-squared:                       0.881\n",
            "Model:                            OLS   Adj. R-squared:                  0.878\n",
            "Method:                 Least Squares   F-statistic:                     302.6\n",
            "Date:                Fri, 29 Sep 2023   Prob (F-statistic):           1.56e-20\n",
            "Time:                        04:11:30   Log-Likelihood:                -451.13\n",
            "No. Observations:                  43   AIC:                             906.3\n",
            "Df Residuals:                      41   BIC:                             909.8\n",
            "Df Model:                           1                                         \n",
            "Covariance Type:            nonrobust                                         \n",
            "==============================================================================\n",
            "                 coef    std err          t      P>|t|      [0.025      0.975]\n",
            "------------------------------------------------------------------------------\n",
            "const       2.701e+04   3218.855      8.393      0.000    2.05e+04    3.35e+04\n",
            "Precip      3752.4856    215.730     17.394      0.000    3316.809    4188.162\n",
            "==============================================================================\n",
            "Omnibus:                        2.047   Durbin-Watson:                   1.518\n",
            "Prob(Omnibus):                  0.359   Jarque-Bera (JB):                1.285\n",
            "Skew:                           0.408   Prob(JB):                        0.526\n",
            "Kurtosis:                       3.227   Cond. No.                         35.4\n",
            "==============================================================================\n",
            "\n",
            "Notes:\n",
            "[1] Standard Errors assume that the covariance matrix of the errors is correctly specified.\n"
          ]
        }
      ],
      "source": [
        "# Prepare data\n",
        "y = water['Runoff']\n",
        "X = sm.add_constant(water['Precip'])\n",
        "# Fit simple linear regression model using ordinary least squares\n",
        "mod = sm.OLS(y, X)\n",
        "res = mod.fit()\n",
        "print(res.summary())"
      ]
    },
    {
      "cell_type": "markdown",
      "metadata": {
        "id": "4MLiS6HOh9pC"
      },
      "source": [
        "The R-squared value is 0.881, meaning 88% of the variance in runoff is explained by snowfall."
      ]
    },
    {
      "cell_type": "markdown",
      "metadata": {
        "id": "wI0SCybVh9pC"
      },
      "source": [
        "#### 29. Briefly interpret the Adjusted R-Squared (shown in the summary output above)."
      ]
    },
    {
      "cell_type": "markdown",
      "metadata": {
        "id": "b9Hu3Bpyh9pC"
      },
      "source": [
        "The adjusted R-squared has penalizations for the number of predictor variables int the model. since there is only one, it is veirtually the same as the regular R-squared."
      ]
    },
    {
      "cell_type": "markdown",
      "metadata": {
        "id": "rk13d18Fh9pC"
      },
      "source": [
        "#### 30. Look at the F-Statistic and corresponding $p$-value from the summary of the linear model (output shown above). Do these values indicate that $X$ has a statistically significant linear association with $Y$?"
      ]
    },
    {
      "cell_type": "markdown",
      "metadata": {
        "id": "tlEMSfyHh9pD"
      },
      "source": [
        "Yes. The T-value is huge, and the P-value is a negligible number, basically zero. Because of these statistics, X does indeed have a statistically significant relationship with Y."
      ]
    },
    {
      "cell_type": "markdown",
      "metadata": {
        "id": "T-9CKUeDh9pD"
      },
      "source": [
        "#### 31. Briefly summarize what you learned, personally, from this analysis about the statistics, model fitting process, etc."
      ]
    },
    {
      "cell_type": "markdown",
      "metadata": {
        "id": "PN_GXoTDh9pD"
      },
      "source": [
        "Intervals can predict all sorts of values. It's important to know which interval explains what you're looking for."
      ]
    },
    {
      "cell_type": "markdown",
      "metadata": {
        "id": "OX8Uryr6h9pD"
      },
      "source": [
        "#### 32. Briefly summarize what you learned from this analysis *to a non-statistician*. Write a few sentences about (1) the purpose of this data set and analysis and (2) what you learned about this data set from your analysis. Write your response as if you were addressing a business manager (avoid using statistics jargon) and just provide the main take-aways.\n"
      ]
    },
    {
      "cell_type": "markdown",
      "metadata": {
        "id": "8_w1H4yPh9pD"
      },
      "source": [
        "1. Purpose of the Data Set and Analysis:\n",
        "This analysis looked into data that recorded the amount of snowfall and the resulting stream runoff. Essentially, we wanted to understand if and how the amount of snowfall impacts the volume of water that flows in streams.\n",
        "\n",
        "2. What We Learned:\n",
        "From our analysis, it's clear that there's a strong relationship between snowfall and stream runoff. When there's more snowfall, we can expect a significant increase in stream water flow. This relationship is consistent and prominent in the data we analyzed.\n",
        "\n",
        "In simple terms, if we're expecting a year with heavy snowfall, it's likely we'll also see a notable rise in water levels in streams. This information can be crucial for planning purposes, whether it's related to water resource management or anticipating potential flooding."
      ]
    }
  ],
  "metadata": {
    "kernelspec": {
      "display_name": "Python 3 (ipykernel)",
      "language": "python",
      "name": "python3"
    },
    "language_info": {
      "codemirror_mode": {
        "name": "ipython",
        "version": 3
      },
      "file_extension": ".py",
      "mimetype": "text/x-python",
      "name": "python",
      "nbconvert_exporter": "python",
      "pygments_lexer": "ipython3",
      "version": "3.11.4"
    },
    "vscode": {
      "interpreter": {
        "hash": "10d6072494707c7bc211d55efe88ce18f2fd102f2ffa80102aae223c8d3d6fa2"
      }
    },
    "colab": {
      "provenance": []
    }
  },
  "nbformat": 4,
  "nbformat_minor": 0
}